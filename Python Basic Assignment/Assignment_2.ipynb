{
 "cells": [
  {
   "cell_type": "markdown",
   "id": "3692269e",
   "metadata": {},
   "source": [
    "## Q1. What are the two values of the Boolean data type? How do you write them?\n",
    "\n",
    "## Ans:\n",
    "The two values of the Boolean data type is true and false. In python, we can write these boolean values as it is but the first letter capital i.e. True and False."
   ]
  },
  {
   "cell_type": "markdown",
   "id": "40cbbb41",
   "metadata": {},
   "source": [
    "## Q2. What are the three different types of Boolean operators?\n",
    "\n",
    "## Ans:\n",
    "Following are the three different type of Boolean operator:\n",
    "1. **AND**\n",
    "2. **OR**\n",
    "3. **NOT**"
   ]
  },
  {
   "cell_type": "markdown",
   "id": "a375d36d",
   "metadata": {},
   "source": [
    "## Q3. Make a list of each Boolean operator's truth tables (i.e. every possible combination of Boolean values for the operator and what it evaluate ).\n",
    "\n",
    "## Ans:"
   ]
  },
  {
   "cell_type": "code",
   "execution_count": 1,
   "id": "bcaf3942",
   "metadata": {},
   "outputs": [],
   "source": [
    "AND=[False, False, False, True]\n",
    "OR=[False, True, True, True]\n",
    "NOT=[True, False]"
   ]
  },
  {
   "cell_type": "markdown",
   "id": "63236e43",
   "metadata": {},
   "source": [
    "## Q4. What are the values of the following expressions?\n",
    "\n",
    "## Ans:"
   ]
  },
  {
   "cell_type": "code",
   "execution_count": 2,
   "id": "a2eb83d3",
   "metadata": {},
   "outputs": [
    {
     "data": {
      "text/plain": [
       "False"
      ]
     },
     "execution_count": 2,
     "metadata": {},
     "output_type": "execute_result"
    }
   ],
   "source": [
    "(5 > 4) and (3 == 5)"
   ]
  },
  {
   "cell_type": "code",
   "execution_count": 3,
   "id": "216d4ab4",
   "metadata": {},
   "outputs": [
    {
     "data": {
      "text/plain": [
       "False"
      ]
     },
     "execution_count": 3,
     "metadata": {},
     "output_type": "execute_result"
    }
   ],
   "source": [
    "not (5 > 4)"
   ]
  },
  {
   "cell_type": "code",
   "execution_count": 4,
   "id": "eda9c6c8",
   "metadata": {},
   "outputs": [
    {
     "data": {
      "text/plain": [
       "False"
      ]
     },
     "execution_count": 4,
     "metadata": {},
     "output_type": "execute_result"
    }
   ],
   "source": [
    "not ((5 > 4) or (3 == 5))"
   ]
  },
  {
   "cell_type": "code",
   "execution_count": 5,
   "id": "1ef8b2dd",
   "metadata": {},
   "outputs": [
    {
     "data": {
      "text/plain": [
       "False"
      ]
     },
     "execution_count": 5,
     "metadata": {},
     "output_type": "execute_result"
    }
   ],
   "source": [
    "(True and True) and (True == False)"
   ]
  },
  {
   "cell_type": "code",
   "execution_count": 6,
   "id": "fd12cd81",
   "metadata": {},
   "outputs": [
    {
     "data": {
      "text/plain": [
       "True"
      ]
     },
     "execution_count": 6,
     "metadata": {},
     "output_type": "execute_result"
    }
   ],
   "source": [
    "(not False) or (not True)"
   ]
  },
  {
   "cell_type": "markdown",
   "id": "cc25708a",
   "metadata": {},
   "source": [
    "## Q5. What are the six comparison operators?\n",
    "\n",
    "## Ans:\n",
    "\n",
    "1. **==**: If the value of two variables/operands are equal then it becomes true.\n",
    "2. **!=**: If the value of two variable/operands are not equal then it becomes true.\n",
    "3. **>**: If the value of left operand is larger than the right one then it becomes true.\n",
    "4. **<**: If the value of right operand is larger than the left one then it becomes true.\n",
    "5. **>=**: If the value of left operand is larger than or equal to the right one then it becomes true.\n",
    "6. **<=**: If the value of right operand is larger than or equal to the left one then it becomes true."
   ]
  },
  {
   "cell_type": "markdown",
   "id": "537f6054",
   "metadata": {},
   "source": [
    "## For Example:"
   ]
  },
  {
   "cell_type": "code",
   "execution_count": 7,
   "id": "e3a53a9c",
   "metadata": {},
   "outputs": [
    {
     "data": {
      "text/plain": [
       "True"
      ]
     },
     "execution_count": 7,
     "metadata": {},
     "output_type": "execute_result"
    }
   ],
   "source": [
    "6==6.0"
   ]
  },
  {
   "cell_type": "code",
   "execution_count": 8,
   "id": "fcab20ad",
   "metadata": {},
   "outputs": [
    {
     "data": {
      "text/plain": [
       "True"
      ]
     },
     "execution_count": 8,
     "metadata": {},
     "output_type": "execute_result"
    }
   ],
   "source": [
    "6!=-6"
   ]
  },
  {
   "cell_type": "code",
   "execution_count": 9,
   "id": "d12f2111",
   "metadata": {},
   "outputs": [
    {
     "data": {
      "text/plain": [
       "True"
      ]
     },
     "execution_count": 9,
     "metadata": {},
     "output_type": "execute_result"
    }
   ],
   "source": [
    "6>-6"
   ]
  },
  {
   "cell_type": "code",
   "execution_count": 10,
   "id": "23d52a64",
   "metadata": {},
   "outputs": [
    {
     "data": {
      "text/plain": [
       "True"
      ]
     },
     "execution_count": 10,
     "metadata": {},
     "output_type": "execute_result"
    }
   ],
   "source": [
    "-6<6"
   ]
  },
  {
   "cell_type": "code",
   "execution_count": 11,
   "id": "e91e80e1",
   "metadata": {},
   "outputs": [
    {
     "data": {
      "text/plain": [
       "True"
      ]
     },
     "execution_count": 11,
     "metadata": {},
     "output_type": "execute_result"
    }
   ],
   "source": [
    "6.005>=6.00"
   ]
  },
  {
   "cell_type": "code",
   "execution_count": 12,
   "id": "8bf227ec",
   "metadata": {},
   "outputs": [
    {
     "data": {
      "text/plain": [
       "True"
      ]
     },
     "execution_count": 12,
     "metadata": {},
     "output_type": "execute_result"
    }
   ],
   "source": [
    "6.001<=6.002"
   ]
  },
  {
   "cell_type": "markdown",
   "id": "2208d809",
   "metadata": {},
   "source": [
    "## Q6. How do you tell the difference between the equal to and assignment operators?Describe a condition and when you would use one.\n",
    "\n",
    "## Ans:\n",
    "The equal to operator is denoted by '**==**'. It is a type of comparison operator which is responsible for comparing two operands. If the left operand and right operand containing same value then it will give us a boolean value True otherwise False. In case of assignment operator denoted by '**=**' is responsible for assigning an operand to a variable. Let us consider an constant operand '5' and we want to store it into some variable called 'a' then with the help of this assignment operator we can assign the constant operand into the space called variable."
   ]
  },
  {
   "cell_type": "markdown",
   "id": "395d2201",
   "metadata": {},
   "source": [
    "## For Example:"
   ]
  },
  {
   "cell_type": "code",
   "execution_count": 13,
   "id": "7348283c",
   "metadata": {},
   "outputs": [],
   "source": [
    "## equal-to operator"
   ]
  },
  {
   "cell_type": "code",
   "execution_count": 14,
   "id": "596a6c41",
   "metadata": {},
   "outputs": [
    {
     "data": {
      "text/plain": [
       "True"
      ]
     },
     "execution_count": 14,
     "metadata": {},
     "output_type": "execute_result"
    }
   ],
   "source": [
    "5==5.0"
   ]
  },
  {
   "cell_type": "code",
   "execution_count": 15,
   "id": "6fa8d3ae",
   "metadata": {},
   "outputs": [
    {
     "data": {
      "text/plain": [
       "False"
      ]
     },
     "execution_count": 15,
     "metadata": {},
     "output_type": "execute_result"
    }
   ],
   "source": [
    "8==9"
   ]
  },
  {
   "cell_type": "code",
   "execution_count": 16,
   "id": "8e4d405e",
   "metadata": {},
   "outputs": [],
   "source": [
    "## Assignment operator"
   ]
  },
  {
   "cell_type": "code",
   "execution_count": 17,
   "id": "668e5247",
   "metadata": {},
   "outputs": [],
   "source": [
    "5 #--> constant operand, we can't over-write it. but if we store this in some variable then definitely we can over-write/change\n",
    "  # it anytime.\n",
    "a=5"
   ]
  },
  {
   "cell_type": "code",
   "execution_count": 18,
   "id": "5c0bbdf8",
   "metadata": {},
   "outputs": [
    {
     "data": {
      "text/plain": [
       "5"
      ]
     },
     "execution_count": 18,
     "metadata": {},
     "output_type": "execute_result"
    }
   ],
   "source": [
    "a"
   ]
  },
  {
   "cell_type": "markdown",
   "id": "57b6565b",
   "metadata": {},
   "source": [
    "## Q7. Identify the three blocks in this code:\n"
   ]
  },
  {
   "cell_type": "markdown",
   "id": "0b247164",
   "metadata": {},
   "source": [
    "spam = 0\n",
    "if spam == 10:\n",
    "print('eggs')\n",
    "if spam > 5:\n",
    "print('bacon')\n",
    "else:\n",
    "print('ham')\n",
    "print('spam')\n",
    "print('spam')"
   ]
  },
  {
   "cell_type": "markdown",
   "id": "b3104fa3",
   "metadata": {},
   "source": [
    "## Ans:\n",
    "In the above code, there is a declared variable 'spam' which is equal to 0 and used three lines of decision-making statement i.e. two if statement and one else statement but if we execute this above code directly without editing it will give us identation error because the print function used after each if-else statement is not under the indent or scope of it. So we have to bring all the print statement under the indent of if-else statement"
   ]
  },
  {
   "cell_type": "code",
   "execution_count": 19,
   "id": "ce7c366e",
   "metadata": {},
   "outputs": [
    {
     "ename": "IndentationError",
     "evalue": "expected an indented block (<ipython-input-19-d330ff8627e6>, line 4)",
     "output_type": "error",
     "traceback": [
      "\u001b[1;36m  File \u001b[1;32m\"<ipython-input-19-d330ff8627e6>\"\u001b[1;36m, line \u001b[1;32m4\u001b[0m\n\u001b[1;33m    print('eggs')\u001b[0m\n\u001b[1;37m    ^\u001b[0m\n\u001b[1;31mIndentationError\u001b[0m\u001b[1;31m:\u001b[0m expected an indented block\n"
     ]
    }
   ],
   "source": [
    "## code without edit will give us error\n",
    "spam = 0\n",
    "if spam == 10:\n",
    "print('eggs')\n",
    "if spam > 5:\n",
    "print('bacon')\n",
    "else:\n",
    "print('ham')\n",
    "print('spam')\n",
    "print('spam')"
   ]
  },
  {
   "cell_type": "code",
   "execution_count": 20,
   "id": "d0114e98",
   "metadata": {},
   "outputs": [
    {
     "name": "stdout",
     "output_type": "stream",
     "text": [
      "ham\n",
      "spam\n",
      "spam\n"
     ]
    }
   ],
   "source": [
    "## Code with edit will give us the result\n",
    "spam = 0\n",
    "if spam == 10:\n",
    "    print('eggs')\n",
    "if spam > 5:\n",
    "    print('bacon')\n",
    "else:\n",
    "    print('ham')\n",
    "    print('spam')\n",
    "    print('spam')"
   ]
  },
  {
   "cell_type": "markdown",
   "id": "df2d64b9",
   "metadata": {},
   "source": [
    "## Q8. Write code that prints Hello if 1 is stored in spam, prints Howdy if 2 is stored in spam, and prints Greetings! if anything else is stored in spam.\n",
    "\n",
    "## Ans:"
   ]
  },
  {
   "cell_type": "code",
   "execution_count": 21,
   "id": "4b81a1b2",
   "metadata": {},
   "outputs": [
    {
     "name": "stdout",
     "output_type": "stream",
     "text": [
      "Enter the number:3\n",
      "Greetings!\n"
     ]
    }
   ],
   "source": [
    "spam=int(input(\"Enter the number:\"))\n",
    "if spam==1:\n",
    "    print(\"Hello\")\n",
    "elif spam==2:\n",
    "    print(\"Howdy\")\n",
    "else:\n",
    "    print(\"Greetings!\")"
   ]
  },
  {
   "cell_type": "markdown",
   "id": "b133d72d",
   "metadata": {},
   "source": [
    "## Q9. If your programme is stuck in an endless loop, what keys you’ll press?\n",
    "\n",
    "## Ans:\n",
    "If the programme is stuckked in an infinite/endless loop then we use **CTRL + C** windows keys universally but it again varies from different IDE's."
   ]
  },
  {
   "cell_type": "markdown",
   "id": "d5607cdb",
   "metadata": {},
   "source": [
    "## Q10. How can you tell the difference between break and continue?\n",
    "\n",
    "## Ans: \n",
    "The break and continue keyword is used in loop. Outside the loop, it has no use. The break keyword is used to terminate the overall operation of a loop but the continue keyword is used to skip the current element running inside a loop. We generally use these keywords under a certain condition to fulfil inside a loop."
   ]
  },
  {
   "cell_type": "markdown",
   "id": "ea5cef89",
   "metadata": {},
   "source": [
    "## For Example:"
   ]
  },
  {
   "cell_type": "code",
   "execution_count": 24,
   "id": "a04ed2fa",
   "metadata": {},
   "outputs": [
    {
     "name": "stdout",
     "output_type": "stream",
     "text": [
      "0\n",
      "1\n",
      "2\n",
      "3\n",
      "4\n",
      "5\n"
     ]
    }
   ],
   "source": [
    "## break:\n",
    "for i in range(10):\n",
    "    if i==6:\n",
    "        break\n",
    "    else:\n",
    "        print(i)"
   ]
  },
  {
   "cell_type": "code",
   "execution_count": 26,
   "id": "3bc2e434",
   "metadata": {},
   "outputs": [
    {
     "name": "stdout",
     "output_type": "stream",
     "text": [
      "0\n",
      "1\n",
      "2\n",
      "3\n",
      "4\n",
      "5\n",
      "7\n",
      "8\n",
      "9\n"
     ]
    }
   ],
   "source": [
    "## continue\n",
    "for i in range(10):\n",
    "    if i==6:\n",
    "        continue\n",
    "    else:\n",
    "        print(i)"
   ]
  },
  {
   "cell_type": "markdown",
   "id": "01684699",
   "metadata": {},
   "source": [
    "## Q11. In a for loop, what is the difference between range(10), range(0, 10), and range(0, 10, 1)?\n",
    "\n",
    "## Ans:\n",
    "Actually the parameter of range function contains start, end and step. But if we pass only one parameter that indicates the end parameter and start and step parameter is set by default 0 and 1 respectively. If we pass the second parameter to it that means the first one is indicating the start parameter and last one is indicating the end parameter. likewise third parameter indicates step parameter. Here, range(10), range(0,10) and range(0,10,1) will give us the same result. It will give us a range object starting from 0 to 10 and step is 1 means the elements in the range is continuous or without any gap. But if we are using this range function in for loop we iterate the numbers and exclude the last number because it is the nature of range() i.e it is exclusive that means it excludes or remove the last or end element present in the range."
   ]
  },
  {
   "cell_type": "markdown",
   "id": "207778e0",
   "metadata": {},
   "source": [
    "## For Example:"
   ]
  },
  {
   "cell_type": "code",
   "execution_count": 27,
   "id": "6a8b4c7a",
   "metadata": {},
   "outputs": [
    {
     "name": "stdout",
     "output_type": "stream",
     "text": [
      "0\n",
      "1\n",
      "2\n",
      "3\n",
      "4\n",
      "5\n",
      "6\n",
      "7\n",
      "8\n",
      "9\n"
     ]
    }
   ],
   "source": [
    "for i in range(10):\n",
    "    print(i)"
   ]
  },
  {
   "cell_type": "code",
   "execution_count": 28,
   "id": "4468d91c",
   "metadata": {},
   "outputs": [
    {
     "name": "stdout",
     "output_type": "stream",
     "text": [
      "0\n",
      "1\n",
      "2\n",
      "3\n",
      "4\n",
      "5\n",
      "6\n",
      "7\n",
      "8\n",
      "9\n"
     ]
    }
   ],
   "source": [
    "for i in range(0,10):\n",
    "    print(i)"
   ]
  },
  {
   "cell_type": "code",
   "execution_count": 29,
   "id": "9c9a7813",
   "metadata": {},
   "outputs": [
    {
     "name": "stdout",
     "output_type": "stream",
     "text": [
      "0\n",
      "1\n",
      "2\n",
      "3\n",
      "4\n",
      "5\n",
      "6\n",
      "7\n",
      "8\n",
      "9\n"
     ]
    }
   ],
   "source": [
    "for i in range(0,10,1):\n",
    "    print(i)"
   ]
  },
  {
   "cell_type": "markdown",
   "id": "36eee82b",
   "metadata": {},
   "source": [
    "## Q12. Write a short program that prints the numbers 1 to 10 using a for loop. Then write an equivalent program that prints the numbers 1 to 10 using a while loop.\n",
    "\n",
    "## Ans:"
   ]
  },
  {
   "cell_type": "code",
   "execution_count": 30,
   "id": "ef288e3a",
   "metadata": {},
   "outputs": [
    {
     "name": "stdout",
     "output_type": "stream",
     "text": [
      "1\n",
      "2\n",
      "3\n",
      "4\n",
      "5\n",
      "6\n",
      "7\n",
      "8\n",
      "9\n",
      "10\n"
     ]
    }
   ],
   "source": [
    "## For loop:\n",
    "for i in range(1,11):\n",
    "    print(i)"
   ]
  },
  {
   "cell_type": "code",
   "execution_count": 31,
   "id": "f2de51c7",
   "metadata": {},
   "outputs": [
    {
     "name": "stdout",
     "output_type": "stream",
     "text": [
      "0\n",
      "1\n",
      "2\n",
      "3\n",
      "4\n",
      "5\n",
      "6\n",
      "7\n",
      "8\n",
      "9\n",
      "10\n"
     ]
    }
   ],
   "source": [
    "## While loop:\n",
    "num=0\n",
    "while num<=10:\n",
    "    print(num)\n",
    "    num=num+1"
   ]
  },
  {
   "cell_type": "markdown",
   "id": "bd0a17a0",
   "metadata": {},
   "source": [
    "## Q13. If you had a function named bacon() inside a module named spam, how would you call it after importing spam?\n",
    "\n",
    "## Ans:\n",
    "After importing spam, i will call it via dot notation i.e spam.bacon()"
   ]
  },
  {
   "cell_type": "code",
   "execution_count": null,
   "id": "786dd42d",
   "metadata": {},
   "outputs": [],
   "source": []
  }
 ],
 "metadata": {
  "kernelspec": {
   "display_name": "Python 3",
   "language": "python",
   "name": "python3"
  },
  "language_info": {
   "codemirror_mode": {
    "name": "ipython",
    "version": 3
   },
   "file_extension": ".py",
   "mimetype": "text/x-python",
   "name": "python",
   "nbconvert_exporter": "python",
   "pygments_lexer": "ipython3",
   "version": "3.8.8"
  }
 },
 "nbformat": 4,
 "nbformat_minor": 5
}
