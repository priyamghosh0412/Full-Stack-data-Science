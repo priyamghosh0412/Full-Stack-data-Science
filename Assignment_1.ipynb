{
 "cells": [
  {
   "cell_type": "markdown",
   "id": "f80e2b76",
   "metadata": {},
   "source": [
    "# Q1. In the below elements which of them are values or an expression? eg:- values can be integer or string and expressions will be mathematical operators.\n",
    "\n",
    "1.  * \n",
    "2.  'hello'\n",
    "3.  -87.8\n",
    "4.  - \n",
    "5.  / \n",
    "6.  +\n",
    "7.  6 \n",
    "\n",
    "# Ans:\n",
    "1. operator\n",
    "2. value\n",
    "3. value\n",
    "4. operator\n",
    "5. operator\n",
    "6. operator\n",
    "7. value\n"
   ]
  },
  {
   "cell_type": "markdown",
   "id": "55da9d56",
   "metadata": {},
   "source": [
    "# Q2. What is the difference between string and variable?\n",
    "\n",
    "# Ans:\n",
    "In Simple terms, we can say that the string is value or a constant and variable is space where we store the value. Here, any elements which present inside the quotation mark called string and if we want to store that string into a space then that space is called variable. Variable can be static and dynamic that means the size of the variable may or may not vary, depends on the programming languages. String is an iterable object that means we can use indexing operation on it. \n"
   ]
  },
  {
   "cell_type": "markdown",
   "id": "da733cee",
   "metadata": {},
   "source": [
    "# Q3. Describe three different data types.\n",
    "\n",
    "# Ans:\n",
    "**Integer**: This type of datatype stores whole number that ranges from negative scale of the number to the positive scale of the number. Integers are commonly used in computer as a group of bits. Integer datatype is not iterable because it doesn't support indexing operations but we use Integer as an index of another iterable object. For example: -2,-1,0,1,2,3,....\n",
    "\n",
    "**Float**: This type of datatype stores decimal numbers or fractional numbers. Same as the Integer datatype, it also supports huge range of number from negative scale to positive scale. Float dataype is not iterable because it doesn't support indexing operation even though we can't use floating point number as an index like Integers because index cantains whole numbers. For example: -3.5,-2.1,-1.8,0,1.0,2.01,3.004,.....\n",
    "\n",
    "**String**: This type of datatype stores any type of element inside it but under a quotation that means whatever value we are going to write must be under inverted commas (Single/Double). String datatype supports indexing operation, so it is an iterable object. String object is immutable i.e. we cannot insert or append elements in the string in the same heap space although we can replace or update elements by taking the whole string in any other heap space. For example: \"132\", '1.234','abcdef',\"@#abcde\",\"@#$/\", etc."
   ]
  },
  {
   "cell_type": "markdown",
   "id": "3c495611",
   "metadata": {},
   "source": [
    "# Q4. What is an expression made up of? What do all expressions do?\n",
    "\n",
    "# Ans: \n",
    "An Expression is made up of two elements i.e. **OPERATOR** and **OPERANDS**. As an Operand, we can declare constant as well as variable that means we can use variable names in which constants are assigned and also we can use direct constants as an Operand. But, in the Operator, we use some limited symbols which has some unique identification and used to perform some operation with opearands. For example: **a + b - 5** , in this operation, a,b and 5 are operands because it is carrying some value (let's assume a=6 and b=7) and +,- are operators which has some unique identification that means **+** operation can add two elements and **-** operator can subtract two elements. The combination of both Operands and Operator is called Operation or Expression.  "
   ]
  },
  {
   "cell_type": "markdown",
   "id": "75a991c5",
   "metadata": {},
   "source": [
    "# Q5. This assignment statements, like spam = 10. What is the difference between an expression and a statement?\n",
    "\n",
    "# Ans: \n",
    "The Assignment Statement or we can say it as assignment operator (**=**) is an operator which is used to assign some object to the another object. According to the question, **spam** is Variable and **10** is the value and these two are falling under **OPERAND** category but the operator which is using to store that value i.e. 10 in the Variable i.e. spam is **=**. So we can say that it is an assignment statement or assignment operator which assigns the constant term to the variable. The assignment operator is also falling under **OPERATOR** category. As we know that an expression is a combination of both Operator and Operation, so we can say that **spam = 10** itself an expression. "
   ]
  },
  {
   "cell_type": "markdown",
   "id": "dc27df21",
   "metadata": {},
   "source": [
    "# Q6. After running the following code, what does the variable bacon contain?\n",
    "# bacon = 22\n",
    "# bacon + 1\n",
    "\n",
    "# Ans:\n",
    "After successfully running the above code, the variable **bacon** will conation 22 because in the first line of code, **bacon = 22** is declared and after that when cursor will move to the next line of code it will give us 23 but we haven't reassigned it to the variable **bacon** that's why the variable **bacon** will remain 22 after the execution of 2nd line."
   ]
  },
  {
   "cell_type": "code",
   "execution_count": 1,
   "id": "797047c8",
   "metadata": {},
   "outputs": [],
   "source": [
    "bacon = 22"
   ]
  },
  {
   "cell_type": "code",
   "execution_count": 2,
   "id": "b7a21989",
   "metadata": {},
   "outputs": [
    {
     "data": {
      "text/plain": [
       "23"
      ]
     },
     "execution_count": 2,
     "metadata": {},
     "output_type": "execute_result"
    }
   ],
   "source": [
    "bacon + 1"
   ]
  },
  {
   "cell_type": "code",
   "execution_count": 3,
   "id": "d0b4dd2f",
   "metadata": {},
   "outputs": [
    {
     "data": {
      "text/plain": [
       "22"
      ]
     },
     "execution_count": 3,
     "metadata": {},
     "output_type": "execute_result"
    }
   ],
   "source": [
    "bacon"
   ]
  },
  {
   "cell_type": "markdown",
   "id": "cbaab870",
   "metadata": {},
   "source": [
    "# Q7. What should the values of the following two terms be?\n",
    "# 'spam' + 'spamspam'\n",
    "# 'spam' * 3\n",
    "\n",
    "# Ans: \n",
    "\n",
    "Here, we are just concatenating the two strings."
   ]
  },
  {
   "cell_type": "code",
   "execution_count": 4,
   "id": "f36940eb",
   "metadata": {},
   "outputs": [
    {
     "data": {
      "text/plain": [
       "'spamspamspam'"
      ]
     },
     "execution_count": 4,
     "metadata": {},
     "output_type": "execute_result"
    }
   ],
   "source": [
    "'spam'+'spamspam'"
   ]
  },
  {
   "cell_type": "markdown",
   "id": "b43e0196",
   "metadata": {},
   "source": [
    "we are multiplying the string by 3 that's why it is generating three repetetive strings continuously."
   ]
  },
  {
   "cell_type": "code",
   "execution_count": 5,
   "id": "ed69e2aa",
   "metadata": {},
   "outputs": [
    {
     "data": {
      "text/plain": [
       "'spamspamspam'"
      ]
     },
     "execution_count": 5,
     "metadata": {},
     "output_type": "execute_result"
    }
   ],
   "source": [
    "'spam'*3"
   ]
  },
  {
   "cell_type": "markdown",
   "id": "c84d5879",
   "metadata": {},
   "source": [
    "# Q8. Why is eggs a valid variable name while 100 is invalid?\n",
    "\n",
    "# Ans:\n",
    "**egg** is a valid variable name while **100** is invalid because as per the rule of variable declaration, the variable name must start with a letter or underscore character and it cannot start with a number. So, in this case, the variable name **eggs** is starting with letter **e** that's why it is valid but the variable name **100** is starting with number **1** so it is invalid."
   ]
  },
  {
   "cell_type": "markdown",
   "id": "c2dea911",
   "metadata": {},
   "source": [
    "# Q9. What three functions can be used to get the integer, floating-point number, or string version of a value?\n",
    "\n",
    "# Ans:\n",
    "**int()**, **float()** and **str()** are the three function which can be used to get the integer, floating-point number or string version of a value respectively.\n"
   ]
  },
  {
   "cell_type": "markdown",
   "id": "07fb0b8c",
   "metadata": {},
   "source": [
    "# Q10. Why does this expression cause an error? How can you fix it?\n",
    "# 'I have eaten ' + 99 + ' burritos.'\n",
    "\n",
    "# Ans: \n",
    "This is causing error because we cannot concatenate **String** datatype with **Integer** datatype. To fix this issue, we have to **typecast** the integer datatype to string datatype.\n"
   ]
  },
  {
   "cell_type": "code",
   "execution_count": 6,
   "id": "fdf1805a",
   "metadata": {},
   "outputs": [
    {
     "data": {
      "text/plain": [
       "'I have eaten 99 burritos'"
      ]
     },
     "execution_count": 6,
     "metadata": {},
     "output_type": "execute_result"
    }
   ],
   "source": [
    "'I have eaten '+str(99)+' burritos'"
   ]
  },
  {
   "cell_type": "code",
   "execution_count": null,
   "id": "03c7f960",
   "metadata": {},
   "outputs": [],
   "source": []
  }
 ],
 "metadata": {
  "kernelspec": {
   "display_name": "Python 3",
   "language": "python",
   "name": "python3"
  },
  "language_info": {
   "codemirror_mode": {
    "name": "ipython",
    "version": 3
   },
   "file_extension": ".py",
   "mimetype": "text/x-python",
   "name": "python",
   "nbconvert_exporter": "python",
   "pygments_lexer": "ipython3",
   "version": "3.8.8"
  }
 },
 "nbformat": 4,
 "nbformat_minor": 5
}
